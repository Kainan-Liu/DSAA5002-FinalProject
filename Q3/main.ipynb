{
 "cells": [
  {
   "cell_type": "code",
   "execution_count": 5,
   "id": "addf35ba",
   "metadata": {},
   "outputs": [],
   "source": [
    "from run import seed_everything, main"
   ]
  },
  {
   "cell_type": "code",
   "execution_count": 6,
   "id": "509cfa80",
   "metadata": {},
   "outputs": [
    {
     "name": "stdout",
     "output_type": "stream",
     "text": [
      "======================================================\n",
      "Begin Fine-tuning on Our weather dataset\n"
     ]
    },
    {
     "name": "stderr",
     "output_type": "stream",
     "text": [
      "                                               \r"
     ]
    },
    {
     "name": "stdout",
     "output_type": "stream",
     "text": [
      "Unexpected exception formatting exception. Falling back to standard exception\n"
     ]
    },
    {
     "name": "stderr",
     "output_type": "stream",
     "text": [
      "Traceback (most recent call last):\n",
      "  File \"d:\\Program\\Anaconda3\\envs\\bioinfo\\lib\\site-packages\\IPython\\core\\interactiveshell.py\", line 3508, in run_code\n",
      "    exec(code_obj, self.user_global_ns, self.user_ns)\n",
      "  File \"C:\\Users\\lenovo\\AppData\\Local\\Temp\\ipykernel_3200\\2359743501.py\", line 2, in <module>\n",
      "    main(num_classes=15, epochs=1, batch_size=2, lr=2e-5, test_file=\"../../Data/Q3/test_video/\")\n",
      "  File \"c:\\Users\\lenovo\\Desktop\\HKUSTGZ-PG\\Course-project\\DSAA-5002\\Final-Project\\src\\Q3\\run.py\", line 53, in main\n",
      "  File \"d:\\Program\\Anaconda3\\envs\\bioinfo\\lib\\site-packages\\torch\\nn\\modules\\module.py\", line 1501, in _call_impl\n",
      "    return forward_call(*args, **kwargs)\n",
      "  File \"c:\\Users\\lenovo\\Desktop\\HKUSTGZ-PG\\Course-project\\DSAA-5002\\Final-Project\\src\\Q3\\model.py\", line 54, in forward\n",
      "    return self.model(x)\n",
      "  File \"d:\\Program\\Anaconda3\\envs\\bioinfo\\lib\\site-packages\\torch\\nn\\modules\\module.py\", line 1501, in _call_impl\n",
      "    return forward_call(*args, **kwargs)\n",
      "  File \"d:\\Program\\Anaconda3\\envs\\bioinfo\\lib\\site-packages\\torch\\nn\\modules\\container.py\", line 217, in forward\n",
      "    input = module(input)\n",
      "  File \"d:\\Program\\Anaconda3\\envs\\bioinfo\\lib\\site-packages\\torch\\nn\\modules\\module.py\", line 1501, in _call_impl\n",
      "    return forward_call(*args, **kwargs)\n",
      "  File \"d:\\Program\\Anaconda3\\envs\\bioinfo\\lib\\site-packages\\torchvision\\models\\video\\swin_transformer.py\", line 466, in forward\n",
      "    x = self.features(x)  # B _T _H _W C\n",
      "  File \"d:\\Program\\Anaconda3\\envs\\bioinfo\\lib\\site-packages\\torch\\nn\\modules\\module.py\", line 1501, in _call_impl\n",
      "    return forward_call(*args, **kwargs)\n",
      "  File \"d:\\Program\\Anaconda3\\envs\\bioinfo\\lib\\site-packages\\torch\\nn\\modules\\container.py\", line 217, in forward\n",
      "    input = module(input)\n",
      "  File \"d:\\Program\\Anaconda3\\envs\\bioinfo\\lib\\site-packages\\torch\\nn\\modules\\module.py\", line 1501, in _call_impl\n",
      "    return forward_call(*args, **kwargs)\n",
      "  File \"d:\\Program\\Anaconda3\\envs\\bioinfo\\lib\\site-packages\\torch\\nn\\modules\\container.py\", line 217, in forward\n",
      "    input = module(input)\n",
      "  File \"d:\\Program\\Anaconda3\\envs\\bioinfo\\lib\\site-packages\\torch\\nn\\modules\\module.py\", line 1501, in _call_impl\n",
      "    return forward_call(*args, **kwargs)\n",
      "  File \"d:\\Program\\Anaconda3\\envs\\bioinfo\\lib\\site-packages\\torchvision\\models\\swin_transformer.py\", line 453, in forward\n",
      "    x = x + self.stochastic_depth(self.attn(self.norm1(x)))\n",
      "  File \"d:\\Program\\Anaconda3\\envs\\bioinfo\\lib\\site-packages\\torch\\nn\\modules\\module.py\", line 1501, in _call_impl\n",
      "    return forward_call(*args, **kwargs)\n",
      "  File \"d:\\Program\\Anaconda3\\envs\\bioinfo\\lib\\site-packages\\torchvision\\models\\video\\swin_transformer.py\", line 303, in forward\n",
      "    return shifted_window_attention_3d(\n",
      "  File \"d:\\Program\\Anaconda3\\envs\\bioinfo\\lib\\site-packages\\torchvision\\models\\video\\swin_transformer.py\", line 198, in shifted_window_attention_3d\n",
      "    attn = F.softmax(attn, dim=-1)\n",
      "  File \"d:\\Program\\Anaconda3\\envs\\bioinfo\\lib\\site-packages\\torch\\nn\\functional.py\", line 1843, in softmax\n",
      "    ret = input.softmax(dim)\n",
      "KeyboardInterrupt\n",
      "\n",
      "During handling of the above exception, another exception occurred:\n",
      "\n",
      "Traceback (most recent call last):\n",
      "  File \"d:\\Program\\Anaconda3\\envs\\bioinfo\\lib\\site-packages\\IPython\\core\\interactiveshell.py\", line 2105, in showtraceback\n",
      "    stb = self.InteractiveTB.structured_traceback(\n",
      "  File \"d:\\Program\\Anaconda3\\envs\\bioinfo\\lib\\site-packages\\IPython\\core\\ultratb.py\", line 1428, in structured_traceback\n",
      "    return FormattedTB.structured_traceback(\n",
      "  File \"d:\\Program\\Anaconda3\\envs\\bioinfo\\lib\\site-packages\\IPython\\core\\ultratb.py\", line 1319, in structured_traceback\n",
      "    return VerboseTB.structured_traceback(\n",
      "  File \"d:\\Program\\Anaconda3\\envs\\bioinfo\\lib\\site-packages\\IPython\\core\\ultratb.py\", line 1172, in structured_traceback\n",
      "    formatted_exception = self.format_exception_as_a_whole(etype, evalue, etb, number_of_lines_of_context,\n",
      "  File \"d:\\Program\\Anaconda3\\envs\\bioinfo\\lib\\site-packages\\IPython\\core\\ultratb.py\", line 1087, in format_exception_as_a_whole\n",
      "    frames.append(self.format_record(record))\n",
      "  File \"d:\\Program\\Anaconda3\\envs\\bioinfo\\lib\\site-packages\\IPython\\core\\ultratb.py\", line 969, in format_record\n",
      "    frame_info.lines, Colors, self.has_colors, lvals\n",
      "  File \"d:\\Program\\Anaconda3\\envs\\bioinfo\\lib\\site-packages\\IPython\\core\\ultratb.py\", line 792, in lines\n",
      "    return self._sd.lines\n",
      "  File \"d:\\Program\\Anaconda3\\envs\\bioinfo\\lib\\site-packages\\stack_data\\utils.py\", line 144, in cached_property_wrapper\n",
      "    value = obj.__dict__[self.func.__name__] = self.func(obj)\n",
      "  File \"d:\\Program\\Anaconda3\\envs\\bioinfo\\lib\\site-packages\\stack_data\\core.py\", line 734, in lines\n",
      "    pieces = self.included_pieces\n",
      "  File \"d:\\Program\\Anaconda3\\envs\\bioinfo\\lib\\site-packages\\stack_data\\utils.py\", line 144, in cached_property_wrapper\n",
      "    value = obj.__dict__[self.func.__name__] = self.func(obj)\n",
      "  File \"d:\\Program\\Anaconda3\\envs\\bioinfo\\lib\\site-packages\\stack_data\\core.py\", line 681, in included_pieces\n",
      "    pos = scope_pieces.index(self.executing_piece)\n",
      "  File \"d:\\Program\\Anaconda3\\envs\\bioinfo\\lib\\site-packages\\stack_data\\utils.py\", line 144, in cached_property_wrapper\n",
      "    value = obj.__dict__[self.func.__name__] = self.func(obj)\n",
      "  File \"d:\\Program\\Anaconda3\\envs\\bioinfo\\lib\\site-packages\\stack_data\\core.py\", line 660, in executing_piece\n",
      "    return only(\n",
      "  File \"d:\\Program\\Anaconda3\\envs\\bioinfo\\lib\\site-packages\\executing\\executing.py\", line 190, in only\n",
      "    raise NotOneValueFound('Expected one value, found 0')\n",
      "executing.executing.NotOneValueFound: Expected one value, found 0\n"
     ]
    }
   ],
   "source": [
    "seed_everything(random_state=42)\n",
    "main(num_classes=15, epochs=1, batch_size=2, lr=2e-5, test_file=\"../../Data/Q3/test_video/\")"
   ]
  }
 ],
 "metadata": {
  "kernelspec": {
   "display_name": "Python 3 (ipykernel)",
   "language": "python",
   "name": "python3"
  },
  "language_info": {
   "codemirror_mode": {
    "name": "ipython",
    "version": 3
   },
   "file_extension": ".py",
   "mimetype": "text/x-python",
   "name": "python",
   "nbconvert_exporter": "python",
   "pygments_lexer": "ipython3",
   "version": "3.10.12"
  }
 },
 "nbformat": 4,
 "nbformat_minor": 5
}
