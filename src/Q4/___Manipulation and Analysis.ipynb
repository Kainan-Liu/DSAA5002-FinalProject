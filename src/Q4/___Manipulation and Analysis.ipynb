{
 "cells": [
  {
   "cell_type": "code",
   "execution_count": 9,
   "metadata": {},
   "outputs": [],
   "source": [
    "import pyspark as ps\n",
    "import pandas as pd\n",
    "import os\n",
    "from pyspark.sql import SparkSession\n",
    "from pyspark.sql.functions import col,isnan, when, count\n",
    "os.chdir(\"C:/Users/lenovo/Desktop/HKUSTGZ-PG/Course-project/DSAA-5002/Final-Project/\")"
   ]
  },
  {
   "cell_type": "code",
   "execution_count": 2,
   "metadata": {},
   "outputs": [],
   "source": [
    "spark = SparkSession.builder.getOrCreate()"
   ]
  },
  {
   "cell_type": "code",
   "execution_count": 3,
   "metadata": {},
   "outputs": [],
   "source": [
    "data = spark.read.csv(\"./Data/Q4/retail.csv\")"
   ]
  },
  {
   "cell_type": "code",
   "execution_count": 5,
   "metadata": {},
   "outputs": [
    {
     "name": "stdout",
     "output_type": "stream",
     "text": [
      "+--------------+----------+--------------------+--------+--------------+-----+-----------+\n",
      "|           _c0|       _c1|                 _c2|     _c3|           _c4|  _c5|        _c6|\n",
      "+--------------+----------+--------------------+--------+--------------+-----+-----------+\n",
      "|Transaction_id|Product_id|         Description|Quantity|          Date|Price|Customer ID|\n",
      "|        489434|     85048|15CM CHRISTMAS GL...|      12|2009/12/1 7:45| 6.95|      13085|\n",
      "|        489434|    79323P|  PINK CHERRY LIGHTS|      12|2009/12/1 7:45| 6.75|      13085|\n",
      "|        489434|    79323W| WHITE CHERRY LIGHTS|      12|2009/12/1 7:45| 6.75|      13085|\n",
      "|        489434|     22041|\"RECORD FRAME 7\"\"...|      48|2009/12/1 7:45|  2.1|      13085|\n",
      "|        489434|     21232|STRAWBERRY CERAMI...|      24|2009/12/1 7:45| 1.25|      13085|\n",
      "|        489434|     22064|PINK DOUGHNUT TRI...|      24|2009/12/1 7:45| 1.65|      13085|\n",
      "|        489434|     21871| SAVE THE PLANET MUG|      24|2009/12/1 7:45| 1.25|      13085|\n",
      "|        489434|     21523|FANCY FONT HOME S...|      10|2009/12/1 7:45| 5.95|      13085|\n",
      "|        489435|     22350|           CAT BOWL |      12|2009/12/1 7:46| 2.55|      13085|\n",
      "|        489435|     22349|DOG BOWL , CHASIN...|      12|2009/12/1 7:46| 3.75|      13085|\n",
      "|        489435|     22195|HEART MEASURING S...|      24|2009/12/1 7:46| 1.65|      13085|\n",
      "|        489435|     22353|LUNCHBOX WITH CUT...|      12|2009/12/1 7:46| 2.55|      13085|\n",
      "|        489436|    48173C|DOOR MAT BLACK FL...|      10|2009/12/1 9:06| 5.95|      13078|\n",
      "|        489436|     21755|LOVE BUILDING BLO...|      18|2009/12/1 9:06| 5.45|      13078|\n",
      "|        489436|     21754|HOME BUILDING BLO...|       3|2009/12/1 9:06| 5.95|      13078|\n",
      "|        489436|     84879|ASSORTED COLOUR B...|      16|2009/12/1 9:06| 1.69|      13078|\n",
      "|        489436|     22119| PEACE WOODEN BLO...|       3|2009/12/1 9:06| 6.95|      13078|\n",
      "|        489436|     22142|CHRISTMAS CRAFT W...|      12|2009/12/1 9:06| 1.45|      13078|\n",
      "|        489436|     22296|HEART IVORY TRELL...|      12|2009/12/1 9:06| 1.65|      13078|\n",
      "+--------------+----------+--------------------+--------+--------------+-----+-----------+\n",
      "only showing top 20 rows\n",
      "\n"
     ]
    }
   ],
   "source": [
    "data.show()"
   ]
  },
  {
   "cell_type": "code",
   "execution_count": 7,
   "metadata": {},
   "outputs": [
    {
     "data": {
      "text/plain": [
       "1048576"
      ]
     },
     "execution_count": 7,
     "metadata": {},
     "output_type": "execute_result"
    }
   ],
   "source": [
    "data.count()"
   ]
  },
  {
   "cell_type": "code",
   "execution_count": 10,
   "metadata": {},
   "outputs": [
    {
     "name": "stdout",
     "output_type": "stream",
     "text": [
      "+-----+-----+-----+-----+-----+-----+------+\n",
      "|  _c0|  _c1|  _c2|  _c3|  _c4|  _c5|   _c6|\n",
      "+-----+-----+-----+-----+-----+-----+------+\n",
      "|48575|48575|52906|48575|48575|48575|274073|\n",
      "+-----+-----+-----+-----+-----+-----+------+\n",
      "\n"
     ]
    }
   ],
   "source": [
    "data.select([count(when(isnan(c) | col(c).isNull(), c)).alias(c) for c in data.columns]).show()"
   ]
  }
 ],
 "metadata": {
  "kernelspec": {
   "display_name": "bioinfo",
   "language": "python",
   "name": "python3"
  },
  "language_info": {
   "codemirror_mode": {
    "name": "ipython",
    "version": 3
   },
   "file_extension": ".py",
   "mimetype": "text/x-python",
   "name": "python",
   "nbconvert_exporter": "python",
   "pygments_lexer": "ipython3",
   "version": "3.10.12"
  }
 },
 "nbformat": 4,
 "nbformat_minor": 2
}
