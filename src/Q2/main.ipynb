{
 "cells": [
  {
   "cell_type": "code",
   "execution_count": 1,
   "id": "1cee2642-bc34-4ee0-8f60-b7e5da05c6c9",
   "metadata": {},
   "outputs": [],
   "source": [
    "from run import main, seed_everything"
   ]
  },
  {
   "cell_type": "code",
   "execution_count": 2,
   "id": "ad7f50f0-c5b0-42d3-a789-8185367a6120",
   "metadata": {},
   "outputs": [
    {
     "name": "stdout",
     "output_type": "stream",
     "text": [
      "======================================================\n",
      "Begin Fine-tuning on Our weather dataset\n"
     ]
    },
    {
     "name": "stderr",
     "output_type": "stream",
     "text": [
      "                                                                     \r"
     ]
    },
    {
     "name": "stdout",
     "output_type": "stream",
     "text": [
      "End Training\n",
      "======================================================\n",
      "Begin Testing\n",
      "Accuracy: 0.98\n"
     ]
    }
   ],
   "source": [
    "seed_everything(random_state=42)\n",
    "main(num_classes=5, epochs=50, batch_size=16, lr=3e-5)"
   ]
  }
 ],
 "metadata": {
  "kernelspec": {
   "display_name": "Python 3 (ipykernel)",
   "language": "python",
   "name": "python3"
  },
  "language_info": {
   "codemirror_mode": {
    "name": "ipython",
    "version": 3
   },
   "file_extension": ".py",
   "mimetype": "text/x-python",
   "name": "python",
   "nbconvert_exporter": "python",
   "pygments_lexer": "ipython3",
   "version": "3.8.10"
  }
 },
 "nbformat": 4,
 "nbformat_minor": 5
}
